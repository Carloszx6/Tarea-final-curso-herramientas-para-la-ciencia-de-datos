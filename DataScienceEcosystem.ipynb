{
 "cells": [
  {
   "cell_type": "markdown",
   "id": "10bf251f-7e6c-47e2-ab3a-e09006e2944c",
   "metadata": {},
   "source": [
    "# Data Science Tools and Ecosystem"
   ]
  },
  {
   "cell_type": "markdown",
   "id": "a881402e-511d-4fb1-a623-7d91c526af41",
   "metadata": {},
   "source": [
    "En este cuaderno, se resumen las herramientas y ecosistemas de ciencia de datos."
   ]
  },
  {
   "cell_type": "markdown",
   "id": "f9c4c1d4-9cf6-4bff-a6cc-25918c465eed",
   "metadata": {},
   "source": [
    "**Objetivos:**\n",
    "* Listar lenguajes populares para Ciencia de Datos\n",
    "* Listar bibliotecas comúnmente utilizadas por los científicos para Ciencia de Datos\n",
    "* Listar algunas herramientas de Ciencia de Datos\n",
    "* Evaluar expresiones aritméticas en Python"
   ]
  },
  {
   "cell_type": "markdown",
   "id": "336fdded-abde-4edb-b605-c6a28ff143bf",
   "metadata": {},
   "source": [
    "Algunos de los lenguajes populares que utilizan los científicos de datos son:\n",
    "\n",
    "1. Python\n",
    "2. R\n",
    "3. Java\n",
    "4. C++"
   ]
  },
  {
   "cell_type": "markdown",
   "id": "290f6493-c773-465b-b24f-fd9253cec773",
   "metadata": {},
   "source": [
    "Algunas de las bibliotecas comúnmente utilizadas por los científicos de datos incluyen:\n",
    "\n",
    "1. Pandas\n",
    "2. Numpy\n",
    "3. Plotly"
   ]
  },
  {
   "cell_type": "markdown",
   "id": "b4c13ceb-0f1e-4eaf-94ee-132870da098c",
   "metadata": {},
   "source": [
    "|Herramientas de Ciencia de Datos|\n",
    "|--------------------------------|\n",
    "|Jupyter Lab|\n",
    "|R Studio|\n",
    "|Apache Spark|\n"
   ]
  },
  {
   "cell_type": "markdown",
   "id": "4fbcbb54-33e3-430a-8781-8333f579c093",
   "metadata": {},
   "source": [
    "### A continuación, se presentan algunos ejemplos de evaluación de expresiones aritméticas en Python"
   ]
  },
  {
   "cell_type": "code",
   "execution_count": 5,
   "id": "a792b775-6662-4210-adf8-f5887b39e40e",
   "metadata": {},
   "outputs": [
    {
     "data": {
      "text/plain": [
       "17"
      ]
     },
     "execution_count": 5,
     "metadata": {},
     "output_type": "execute_result"
    }
   ],
   "source": [
    "# Esta es una expresión aritmética simple para multiplicar y luego sumar enteros\n",
    "(3*4)+5"
   ]
  },
  {
   "cell_type": "code",
   "execution_count": 6,
   "id": "ad7723e5-1403-4e33-9e3d-732222b35fb2",
   "metadata": {},
   "outputs": [
    {
     "data": {
      "text/plain": [
       "3.3333333333333335"
      ]
     },
     "execution_count": 6,
     "metadata": {},
     "output_type": "execute_result"
    }
   ],
   "source": [
    "# Esto convertirá 200 minutos a horas dividiendo por 60\n",
    "200 / 60"
   ]
  },
  {
   "cell_type": "markdown",
   "id": "6d7fcb9c-1538-4b49-9ce2-b5eb1bc8740a",
   "metadata": {},
   "source": [
    "## Autor\n",
    "Carlos Gómez"
   ]
  },
  {
   "cell_type": "code",
   "execution_count": null,
   "id": "8cc2c4e5-de98-4560-a811-df2134cc773e",
   "metadata": {},
   "outputs": [],
   "source": []
  }
 ],
 "metadata": {
  "kernelspec": {
   "display_name": "Python 3 (ipykernel)",
   "language": "python",
   "name": "python3"
  },
  "language_info": {
   "codemirror_mode": {
    "name": "ipython",
    "version": 3
   },
   "file_extension": ".py",
   "mimetype": "text/x-python",
   "name": "python",
   "nbconvert_exporter": "python",
   "pygments_lexer": "ipython3",
   "version": "3.12.8"
  }
 },
 "nbformat": 4,
 "nbformat_minor": 5
}
